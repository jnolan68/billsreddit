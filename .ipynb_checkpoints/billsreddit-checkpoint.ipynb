{
 "cells": [
  {
   "cell_type": "code",
   "execution_count": 3,
   "metadata": {},
   "outputs": [
    {
     "ename": "ModuleNotFoundError",
     "evalue": "No module named 'praw'",
     "output_type": "error",
     "traceback": [
      "\u001b[1;31m---------------------------------------------------------------------------\u001b[0m",
      "\u001b[1;31mModuleNotFoundError\u001b[0m                       Traceback (most recent call last)",
      "\u001b[1;32m<ipython-input-3-51fceeeb226e>\u001b[0m in \u001b[0;36m<module>\u001b[1;34m\u001b[0m\n\u001b[1;32m----> 1\u001b[1;33m \u001b[1;32mimport\u001b[0m \u001b[0mpraw\u001b[0m\u001b[1;33m\u001b[0m\u001b[1;33m\u001b[0m\u001b[0m\n\u001b[0m\u001b[0;32m      2\u001b[0m \u001b[1;32mimport\u001b[0m \u001b[0mdatetime\u001b[0m\u001b[1;33m\u001b[0m\u001b[1;33m\u001b[0m\u001b[0m\n",
      "\u001b[1;31mModuleNotFoundError\u001b[0m: No module named 'praw'"
     ]
    }
   ],
   "source": [
    "import praw\n",
    "import datetime"
   ]
  },
  {
   "cell_type": "code",
   "execution_count": 4,
   "metadata": {},
   "outputs": [
    {
     "name": "stdout",
     "output_type": "stream",
     "text": [
      "Collecting praw\n",
      "  Downloading praw-7.2.0-py3-none-any.whl (159 kB)\n",
      "Collecting websocket-client>=0.54.0\n",
      "  Downloading websocket_client-0.58.0-py2.py3-none-any.whl (61 kB)\n",
      "Collecting update-checker>=0.18\n",
      "  Using cached update_checker-0.18.0-py3-none-any.whl (7.0 kB)\n",
      "Collecting prawcore<3,>=2\n",
      "  Downloading prawcore-2.0.0-py3-none-any.whl (15 kB)\n",
      "Requirement already satisfied: six in c:\\programdata\\anaconda3\\lib\\site-packages (from websocket-client>=0.54.0->praw) (1.15.0)\n",
      "Requirement already satisfied: requests>=2.3.0 in c:\\programdata\\anaconda3\\lib\\site-packages (from update-checker>=0.18->praw) (2.24.0)\n",
      "Requirement already satisfied: certifi>=2017.4.17 in c:\\programdata\\anaconda3\\lib\\site-packages (from requests>=2.3.0->update-checker>=0.18->praw) (2020.6.20)\n",
      "Requirement already satisfied: urllib3!=1.25.0,!=1.25.1,<1.26,>=1.21.1 in c:\\programdata\\anaconda3\\lib\\site-packages (from requests>=2.3.0->update-checker>=0.18->praw) (1.25.11)\n",
      "Requirement already satisfied: chardet<4,>=3.0.2 in c:\\programdata\\anaconda3\\lib\\site-packages (from requests>=2.3.0->update-checker>=0.18->praw) (3.0.4)\n",
      "Requirement already satisfied: idna<3,>=2.5 in c:\\programdata\\anaconda3\\lib\\site-packages (from requests>=2.3.0->update-checker>=0.18->praw) (2.10)\n",
      "Installing collected packages: websocket-client, update-checker, prawcore, praw\n",
      "Successfully installed praw-7.2.0 prawcore-2.0.0 update-checker-0.18.0 websocket-client-0.58.0\n"
     ]
    }
   ],
   "source": [
    "import sys  \n",
    "!{sys.executable} -m pip install --user praw"
   ]
  },
  {
   "cell_type": "code",
   "execution_count": 5,
   "metadata": {},
   "outputs": [
    {
     "ename": "ModuleNotFoundError",
     "evalue": "No module named 'praw'",
     "output_type": "error",
     "traceback": [
      "\u001b[1;31m---------------------------------------------------------------------------\u001b[0m",
      "\u001b[1;31mModuleNotFoundError\u001b[0m                       Traceback (most recent call last)",
      "\u001b[1;32m<ipython-input-5-51fceeeb226e>\u001b[0m in \u001b[0;36m<module>\u001b[1;34m\u001b[0m\n\u001b[1;32m----> 1\u001b[1;33m \u001b[1;32mimport\u001b[0m \u001b[0mpraw\u001b[0m\u001b[1;33m\u001b[0m\u001b[1;33m\u001b[0m\u001b[0m\n\u001b[0m\u001b[0;32m      2\u001b[0m \u001b[1;32mimport\u001b[0m \u001b[0mdatetime\u001b[0m\u001b[1;33m\u001b[0m\u001b[1;33m\u001b[0m\u001b[0m\n",
      "\u001b[1;31mModuleNotFoundError\u001b[0m: No module named 'praw'"
     ]
    }
   ],
   "source": [
    "import praw\n",
    "import datetime"
   ]
  },
  {
   "cell_type": "code",
   "execution_count": 1,
   "metadata": {},
   "outputs": [],
   "source": [
    "import praw\n",
    "import datetime"
   ]
  },
  {
   "cell_type": "code",
   "execution_count": 2,
   "metadata": {},
   "outputs": [],
   "source": [
    "import os.path\n",
    "import pathlib\n",
    "import csv\n"
   ]
  },
  {
   "cell_type": "code",
   "execution_count": 3,
   "metadata": {},
   "outputs": [],
   "source": [
    " reddit = praw.Reddit(client_id ='J-QEMFqtVvg2UA',\n",
    "                                 client_secret ='mp4xLH-gPdTuP1MHOhW-agywtUgfag',\n",
    "                                 user_agent ='my user agent')"
   ]
  },
  {
   "cell_type": "code",
   "execution_count": 5,
   "metadata": {},
   "outputs": [
    {
     "name": "stdout",
     "output_type": "stream",
     "text": [
      "True\n"
     ]
    }
   ],
   "source": [
    "print(reddit.read_only)"
   ]
  },
  {
   "cell_type": "code",
   "execution_count": 6,
   "metadata": {},
   "outputs": [],
   "source": [
    "bills = reddit.subreddit(\"buffalobills\")"
   ]
  },
  {
   "cell_type": "code",
   "execution_count": 7,
   "metadata": {},
   "outputs": [],
   "source": [
    "keyword = \"Game Thread\"\n",
    "#print(\"Number of Game Threads\" + len(bills.search(keyword, sort='new'))))\n",
    "gamethreads = []"
   ]
  },
  {
   "cell_type": "code",
   "execution_count": 10,
   "metadata": {},
   "outputs": [
    {
     "name": "stdout",
     "output_type": "stream",
     "text": [
      "[Game Thread] Divisional Playoffs: Baltimore Ravens @ Buffalo Bills\n",
      "THREAD Date:2021-01-16 20:00:16 Title [Game Thread] Divisional Playoffs: Baltimore Ravens @ Buffalo Bills\n",
      "[BAL/TEN, CHI/NO, CLE/PIT Game Thread] Browns win and the Bills play the winner of Baltimore/Tennessee. If the Steelers win the Bills play the Steelers next week. Hopefully the games today are as good as yesterday's slate.\n",
      "THREAD Date:2021-01-10 11:47:33 Title [BAL/TEN, CHI/NO, CLE/PIT Game Thread] Browns win and the Bills play the winner of Baltimore/Tennessee. If the Steelers win the Bills play the Steelers next week. Hopefully the games today are as good as yesterday's slate.\n",
      "[Post Game Thread] Wild Card Round - Indianapolis Colts @ Buffalo Bills\n",
      "THREAD Date:2021-01-09 16:23:06 Title [Post Game Thread] Wild Card Round - Indianapolis Colts @ Buffalo Bills\n",
      "[Game Thread] Wild Card Round - Indianapolis Colts @ Buffalo Bills\n",
      "THREAD Date:2021-01-09 12:48:58 Title [Game Thread] Wild Card Round - Indianapolis Colts @ Buffalo Bills\n",
      "[Game Thread] Wk 17: Miami Dolphins @ Buffalo Bills\n",
      "THREAD Date:2021-01-03 12:39:10 Title [Game Thread] Wk 17: Miami Dolphins @ Buffalo Bills\n",
      "Post Game Thread: BILLS WIN!!! LET’S GO\n",
      "THREAD Date:2020-12-28 23:12:09 Title Post Game Thread: BILLS WIN!!! LET’S GO\n",
      "[Game Thread] W16: Buffalo Bills @ New England Patriots\n",
      "THREAD Date:2020-12-28 20:01:48 Title [Game Thread] W16: Buffalo Bills @ New England Patriots\n",
      "[Game Thread] W15: Buffalo Bills @ Denver Broncos\n",
      "THREAD Date:2020-12-19 16:15:24 Title [Game Thread] W15: Buffalo Bills @ Denver Broncos\n",
      "[Game Thread] W14: Pittsburgh Steelers @ Buffalo Bills\n",
      "THREAD Date:2020-12-13 20:02:48 Title [Game Thread] W14: Pittsburgh Steelers @ Buffalo Bills\n",
      "[Game Thread] W13: Buffalo Bills @ San Francisco 49ers\n",
      "THREAD Date:2020-12-07 20:00:17 Title [Game Thread] W13: Buffalo Bills @ San Francisco 49ers\n",
      "[Game Thread] W12 LA Chargers @ Buffalo Bills\n",
      "THREAD Date:2020-11-29 12:46:28 Title [Game Thread] W12 LA Chargers @ Buffalo Bills\n",
      "Game Thread [W10]: Buffalo Bills @ Arizona Cardinals\n",
      "THREAD Date:2020-11-15 15:45:12 Title Game Thread [W10]: Buffalo Bills @ Arizona Cardinals\n",
      "Game Thread [W09]: Seattle Seahawks @ Buffalo Bills\n",
      "THREAD Date:2020-11-08 13:00:11 Title Game Thread [W09]: Seattle Seahawks @ Buffalo Bills\n",
      "Post Game Thread: The Buffalo Bills defeat the New England Patriots 24-21\n",
      "THREAD Date:2020-11-01 16:03:34 Title Post Game Thread: The Buffalo Bills defeat the New England Patriots 24-21\n",
      "Game Thread [W08]: New England Patriots @ Buffalo Bills\n",
      "THREAD Date:2020-11-01 12:45:06 Title Game Thread [W08]: New England Patriots @ Buffalo Bills\n",
      "Game Thread [W07]: Buffalo Bills @ NY Jets\n",
      "THREAD Date:2020-10-25 12:45:16 Title Game Thread [W07]: Buffalo Bills @ NY Jets\n",
      "Game Thread [W06]: Kansas City Chiefs @ Buffalo Bills\n",
      "THREAD Date:2020-10-19 16:47:39 Title Game Thread [W06]: Kansas City Chiefs @ Buffalo Bills\n",
      "Game Thread [W05]: Buffalo Bills @ Tennessee Titans\n",
      "THREAD Date:2020-10-13 18:43:00 Title Game Thread [W05]: Buffalo Bills @ Tennessee Titans\n",
      "Game Thread [W04]: Buffalo Bills @ LV Raiders\n",
      "THREAD Date:2020-10-04 12:45:08 Title Game Thread [W04]: Buffalo Bills @ LV Raiders\n",
      "Game Thread [W03]: LA Rams @ Buffalo Bills\n",
      "THREAD Date:2020-09-27 13:00:07 Title Game Thread [W03]: LA Rams @ Buffalo Bills\n",
      "Game Thread [W02]: Buffalo Bills @ Miami Dolphins\n",
      "THREAD Date:2020-09-20 13:00:08 Title Game Thread [W02]: Buffalo Bills @ Miami Dolphins\n",
      "Game Thread [W01]: New York Jets @ Buffalo Bills\n",
      "THREAD Date:2020-09-13 12:45:06 Title Game Thread [W01]: New York Jets @ Buffalo Bills\n",
      "Game Thread: Buffalo Blue Jays vs Miami Marlins live from Sahlen Field\n",
      "THREAD Date:2020-08-11 18:06:19 Title Game Thread: Buffalo Blue Jays vs Miami Marlins live from Sahlen Field\n",
      "Pre Game Thread: Buffalo Blue Jays vs Miami Marlins live from Sahlen Field at 6:37EST\n",
      "THREAD Date:2020-08-11 12:42:36 Title Pre Game Thread: Buffalo Blue Jays vs Miami Marlins live from Sahlen Field at 6:37EST\n",
      "Post Game Thread: Buffalo defeats Pittsburgh and also Baltimore and also every other city to win the rights to the 2020 Blue Jays season\n",
      "THREAD Date:2020-07-24 12:10:37 Title Post Game Thread: Buffalo defeats Pittsburgh and also Baltimore and also every other city to win the rights to the 2020 Blue Jays season\n",
      "Post Game Thread: Pittsburgh defeats Buffalo for the rights to the 2020 Toronto Blue Jays\n",
      "THREAD Date:2020-07-22 04:37:09 Title Post Game Thread: Pittsburgh defeats Buffalo for the rights to the 2020 Toronto Blue Jays\n",
      "Game Thread: Dallas Cowboys (4-0) @ Buffalo Bills (1-3)\n",
      "THREAD Date:2020-04-27 21:42:29 Title Game Thread: Dallas Cowboys (4-0) @ Buffalo Bills (1-3)\n"
     ]
    }
   ],
   "source": [
    "for i in bills.search(keyword, sort='new'):\n",
    "            #if the title contains \"Game Thread\" we keep it, otherwise toss it\n",
    "            if keyword in i.title:\n",
    "                print(i.title)\n",
    "                time = datetime.datetime.fromtimestamp(i.created_utc).strftime('%Y-%m-%d %H:%M:%S')\n",
    "                print(\"THREAD Date:\" + time + \" Title \" + i.title)\n",
    "                #gt = GameThread(i)\n",
    "                #gamethreads.append(gt)"
   ]
  },
  {
   "cell_type": "code",
   "execution_count": null,
   "metadata": {},
   "outputs": [],
   "source": []
  }
 ],
 "metadata": {
  "kernelspec": {
   "display_name": "Python 3",
   "language": "python",
   "name": "python3"
  },
  "language_info": {
   "codemirror_mode": {
    "name": "ipython",
    "version": 3
   },
   "file_extension": ".py",
   "mimetype": "text/x-python",
   "name": "python",
   "nbconvert_exporter": "python",
   "pygments_lexer": "ipython3",
   "version": "3.8.5"
  }
 },
 "nbformat": 4,
 "nbformat_minor": 4
}
